{
 "cells": [
  {
   "cell_type": "markdown",
   "id": "7ba6a513",
   "metadata": {},
   "source": [
    "#  01 - EDA & Preprocessing\n",
    "\n",
    "This notebook performs initial exploration and preprocessing on the healthcare dataset (e.g., diabetes)."
   ]
  },
  {
   "cell_type": "code",
   "execution_count": null,
   "id": "1d3c01de",
   "metadata": {},
   "outputs": [
    {
     "ename": "",
     "evalue": "",
     "output_type": "error",
     "traceback": [
      "\u001b[1;31mRunning cells with 'Python 3.12.3' requires the ipykernel package.\n",
      "\u001b[1;31m<a href='command:jupyter.createPythonEnvAndSelectController'>Create a Python Environment</a> with the required packages.\n",
      "\u001b[1;31mOr install 'ipykernel' using the command: '/bin/python3 -m pip install ipykernel -U --user --force-reinstall'"
     ]
    }
   ],
   "source": [
    "# Imports\n",
    "import pandas as pd\n",
    "import numpy as np\n",
    "import matplotlib.pyplot as plt\n",
    "import seaborn as sns\n",
    "\n",
    "%matplotlib inline\n",
    "sns.set(style='whitegrid')"
   ]
  },
  {
   "cell_type": "code",
   "execution_count": null,
   "id": "f56ba54a",
   "metadata": {},
   "outputs": [],
   "source": [
    "# Load Dataset\n",
    "# Update path if needed\n",
    "df = pd.read_csv('../data/diabetes.csv')\n",
    "df.head()"
   ]
  },
  {
   "cell_type": "code",
   "execution_count": null,
   "id": "9eeacaa4",
   "metadata": {},
   "outputs": [],
   "source": [
    "# Basic Info\n",
    "df.info()"
   ]
  },
  {
   "cell_type": "code",
   "execution_count": null,
   "id": "8c198721",
   "metadata": {},
   "outputs": [],
   "source": [
    "# Missing Values\n",
    "print(df.isnull().sum())"
   ]
  },
  {
   "cell_type": "code",
   "execution_count": null,
   "id": "41ccf6fb",
   "metadata": {},
   "outputs": [],
   "source": [
    "# Descriptive Statistics\n",
    "df.describe()"
   ]
  },
  {
   "cell_type": "code",
   "execution_count": null,
   "id": "a44346f1",
   "metadata": {},
   "outputs": [],
   "source": [
    "# Target Distribution\n",
    "sns.countplot(data=df, x='Outcome')\n",
    "plt.title('Class Distribution')\n",
    "plt.show()"
   ]
  },
  {
   "cell_type": "code",
   "execution_count": null,
   "id": "43268280",
   "metadata": {},
   "outputs": [],
   "source": [
    "# Feature Distributions\n",
    "num_cols = df.select_dtypes(include=['int64', 'float64']).columns\n",
    "\n",
    "df[num_cols].hist(figsize=(15, 10), bins=20, color='skyblue')\n",
    "plt.tight_layout()\n",
    "plt.show()"
   ]
  },
  {
   "cell_type": "code",
   "execution_count": null,
   "id": "eccc46c2",
   "metadata": {},
   "outputs": [],
   "source": [
    "# Correlation Matrix\n",
    "plt.figure(figsize=(10, 8))\n",
    "sns.heatmap(df.corr(), annot=True, fmt='.2f', cmap='coolwarm')\n",
    "plt.title('Feature Correlation Heatmap')\n",
    "plt.show()"
   ]
  },
  {
   "cell_type": "code",
   "execution_count": null,
   "id": "84dc4f25",
   "metadata": {},
   "outputs": [],
   "source": [
    "# Preprocessing\n",
    "from sklearn.preprocessing import StandardScaler\n",
    "\n",
    "X = df.drop('Outcome', axis=1)\n",
    "y = df['Outcome']\n",
    "\n",
    "scaler = StandardScaler()\n",
    "X_scaled = scaler.fit_transform(X)\n",
    "\n",
    "# Save preprocessed features for reuse\n",
    "X = pd.DataFrame(X_scaled, columns=X.columns)\n",
    "X.to_csv('../data/features.csv', index=False)\n",
    "y.to_csv('../data/labels.csv', index=False)"
   ]
  },
  {
   "cell_type": "markdown",
   "id": "0d1926f0",
   "metadata": {},
   "source": [
    "✅ **Next step:** Proceed to `02_model_training.ipynb` to build and evaluate the predictive model."
   ]
  }
 ],
 "metadata": {
  "kernelspec": {
   "display_name": ".venv",
   "language": "python",
   "name": "python3"
  },
  "language_info": {
   "name": "python",
   "version": "3.12.3"
  }
 },
 "nbformat": 4,
 "nbformat_minor": 5
}

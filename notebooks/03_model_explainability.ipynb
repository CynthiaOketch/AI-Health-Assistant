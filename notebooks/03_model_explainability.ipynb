{
 "cells": [
  {
   "cell_type": "markdown",
   "id": "cb0ecc58",
   "metadata": {},
   "source": [
    "# 03_model_explainability.ipynb"
   ]
  },
  {
   "cell_type": "markdown",
   "id": "4f3bdae6",
   "metadata": {},
   "source": [
    "## Imports"
   ]
  },
  {
   "cell_type": "code",
   "execution_count": null,
   "id": "5d81f44e",
   "metadata": {
    "vscode": {
     "languageId": "plaintext"
    }
   },
   "outputs": [],
   "source": [
    "import shap\n",
    "import numpy as np\n",
    "import pandas as pd\n",
    "import matplotlib.pyplot as plt\n",
    "import seaborn as sns\n",
    "\n",
    "# for consistent plotting style\n",
    "sns.set(style=\"whitegrid\")\n",
    "%matplotlib inline"
   ]
  },
  {
   "cell_type": "markdown",
   "id": "2f29881a",
   "metadata": {},
   "source": [
    "## Load model and data"
   ]
  },
  {
   "cell_type": "code",
   "execution_count": null,
   "id": "6abbdfd3",
   "metadata": {
    "vscode": {
     "languageId": "plaintext"
    }
   },
   "outputs": [],
   "source": [
    "import joblib\n",
    "\n",
    "model = joblib.load('../models/xgboost_model.pkl')\n",
    "\n",
    "# Load test data\n",
    "X_test = pd.read_csv('../data/X_test.csv')\n",
    "y_test = pd.read_csv('../data/y_test.csv').values.ravel()"
   ]
  },
  {
   "cell_type": "markdown",
   "id": "42a1c695",
   "metadata": {},
   "source": [
    "## Create SHAP explainer"
   ]
  },
  {
   "cell_type": "code",
   "execution_count": null,
   "id": "f13b9018",
   "metadata": {
    "vscode": {
     "languageId": "plaintext"
    }
   },
   "outputs": [],
   "source": [
    "explainer = shap.Explainer(model, X_test)\n",
    "shap_values = explainer(X_test"
   ]
  },
  {
   "cell_type": "markdown",
   "id": "187847aa",
   "metadata": {},
   "source": [
    "## Summary Plot (Global Feature Importance)"
   ]
  },
  {
   "cell_type": "code",
   "execution_count": null,
   "id": "4156e4ea",
   "metadata": {
    "vscode": {
     "languageId": "plaintext"
    }
   },
   "outputs": [],
   "source": [
    "plt.title(\"SHAP Summary Plot (Feature Impact on Prediction)\")\n",
    "shap.summary_plot(shap_values, X_test, plot_type=\"bar\")"
   ]
  },
  {
   "cell_type": "markdown",
   "id": "73c8697c",
   "metadata": {},
   "source": [
    "## Summary Plot (Detailed)"
   ]
  },
  {
   "cell_type": "code",
   "execution_count": null,
   "id": "7c090005",
   "metadata": {
    "vscode": {
     "languageId": "plaintext"
    }
   },
   "outputs": [],
   "source": [
    "shap.summary_plot(shap_values, X_test)"
   ]
  },
  {
   "cell_type": "markdown",
   "id": "2d693331",
   "metadata": {},
   "source": [
    "## Force Plot for a Single Prediction"
   ]
  },
  {
   "cell_type": "code",
   "execution_count": null,
   "id": "0be279a4",
   "metadata": {
    "vscode": {
     "languageId": "plaintext"
    }
   },
   "outputs": [],
   "source": [
    "sample_index = 0\n",
    "\n",
    "shap.initjs()\n",
    "shap.force_plot(explainer.expected_value, shap_values[sample_index].values, X_test.iloc[sample_index])"
   ]
  },
  {
   "cell_type": "markdown",
   "id": "e5f50d6e",
   "metadata": {},
   "source": [
    "## Dependence Plot (Relationship of feature & SHAP value)\n",
    "Change 'Age' to any feature of interest"
   ]
  },
  {
   "cell_type": "code",
   "execution_count": null,
   "id": "a60a3689",
   "metadata": {
    "vscode": {
     "languageId": "plaintext"
    }
   },
   "outputs": [],
   "source": [
    "shap.dependence_plot(\"Age\", shap_values.values, X_test)"
   ]
  },
  {
   "cell_type": "markdown",
   "id": "60897dfb",
   "metadata": {},
   "source": [
    "## Waterfall Plot (Local explanation for one instance)"
   ]
  },
  {
   "cell_type": "markdown",
   "id": "6398e0ca",
   "metadata": {},
   "source": []
  },
  {
   "cell_type": "code",
   "execution_count": null,
   "id": "dc9865c9",
   "metadata": {
    "vscode": {
     "languageId": "plaintext"
    }
   },
   "outputs": [],
   "source": [
    "shap.plots.waterfall(shap_values[sample_index])"
   ]
  },
  {
   "cell_type": "markdown",
   "id": "170aeea9",
   "metadata": {},
   "source": [
    "## Save SHAP plots as images"
   ]
  },
  {
   "cell_type": "code",
   "execution_count": null,
   "id": "1f8b5c8c",
   "metadata": {
    "vscode": {
     "languageId": "plaintext"
    }
   },
   "outputs": [],
   "source": [
    "# Save summary plot\n",
    "import matplotlib\n",
    "matplotlib.use('Agg')  # To prevent GUI backend errors in some environments\n",
    "\n",
    "fig = shap.summary_plot(shap_values, X_test, show=False)\n",
    "plt.savefig(\"../reports/shap_summary_plot.png\", bbox_inches='tight')\n"
   ]
  }
 ],
 "metadata": {
  "language_info": {
   "name": "python"
  }
 },
 "nbformat": 4,
 "nbformat_minor": 5
}
